{
 "cells": [
  {
   "cell_type": "markdown",
   "metadata": {
    "id": "2eEv7N6dLWu3"
   },
   "source": [
    "Pasar txt con links de wikipedia para obtener el abstract"
   ]
  },
  {
   "cell_type": "code",
   "execution_count": 3,
   "metadata": {
    "id": "OsdPPwSZzd1g"
   },
   "outputs": [],
   "source": [
    "import bs4\n",
    "import requests\n",
    "import wikipedia\n",
    "import re\n",
    "import csv"
   ]
  },
  {
   "cell_type": "code",
   "execution_count": 8,
   "metadata": {
    "id": "8f5iqC-xMGxm"
   },
   "outputs": [],
   "source": [
    "#Open CSV file to read CSV, note: reading and write file should be under \"with\"\n",
    "with open('wikipages.csv') as csvFile:\n",
    "    #Read CSV\n",
    "    readCsv = csv.reader(csvFile)\n",
    "    for row in readCsv:\n",
    "        #Get Values and manupilate in the file.write\n",
    "        id = row[0]\n",
    "        link = row[1]      \n",
    "        #Open file with \"w\"(write), the file will create automatically.\n",
    "        file = open(\"result\"+str(id)+\".txt\", \"w\", encoding=\"utf-8\")\n",
    "        response = requests.get(\"\"+str(link)+\"\")\n",
    "        if response:\n",
    "          html = bs4.BeautifulSoup(response.text, 'html.parser')\n",
    "\n",
    "          title = html.select(\"#firstHeading\")[0].text\n",
    "          paragraphs = html.select(\"p\")\n",
    "          \n",
    "          # just grab the text up to contents as stated in question\n",
    "          intro = '\\n'.join([ para.text for para in paragraphs[0:7]])\n",
    "          #print (intro)\n",
    "        #Write CSV you need format it to string if the value is an int\n",
    "        file.write(\"\"+str(intro)+\"\\n\")\n",
    "        #You Must Close the FIle after writing it.\n",
    "        file.close()"
   ]
  },
  {
   "cell_type": "code",
   "execution_count": null,
   "metadata": {},
   "outputs": [],
   "source": []
  }
 ],
 "metadata": {
  "colab": {
   "collapsed_sections": [],
   "name": "csvTotxt.ipynb",
   "provenance": []
  },
  "kernelspec": {
   "display_name": "Python 3",
   "language": "python",
   "name": "python3"
  },
  "language_info": {
   "codemirror_mode": {
    "name": "ipython",
    "version": 3
   },
   "file_extension": ".py",
   "mimetype": "text/x-python",
   "name": "python",
   "nbconvert_exporter": "python",
   "pygments_lexer": "ipython3",
   "version": "3.7.9"
  }
 },
 "nbformat": 4,
 "nbformat_minor": 1
}
